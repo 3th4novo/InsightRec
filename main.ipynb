{
 "cells": [
  {
   "cell_type": "code",
   "execution_count": null,
   "id": "initial_id",
   "metadata": {
    "collapsed": true
   },
   "outputs": [],
   "source": [
    "import pandas as pd\n",
    "from ucf_recall import UserCFRecall\n"
   ]
  },
  {
   "metadata": {},
   "cell_type": "code",
   "outputs": [],
   "execution_count": null,
   "source": [
    "ratings = pd.read_csv('data/ml-latest-small/ratings.csv')\n",
    "# Initialize module\n",
    "ucf = UserCFRecall(ratings, user_key='userId', item_key='movieId', rating_key='rating')\n",
    "# Recall for user 123\n",
    "recs = ucf.recall(user_id=123, top_n=300, k_sim=20)\n",
    "print(f\"Top-{len(recs)} recommendations for user 123:\", recs[:20])"
   ],
   "id": "47562877641e89f0"
  }
 ],
 "metadata": {
  "kernelspec": {
   "display_name": "Python 3",
   "language": "python",
   "name": "python3"
  },
  "language_info": {
   "codemirror_mode": {
    "name": "ipython",
    "version": 2
   },
   "file_extension": ".py",
   "mimetype": "text/x-python",
   "name": "python",
   "nbconvert_exporter": "python",
   "pygments_lexer": "ipython2",
   "version": "2.7.6"
  }
 },
 "nbformat": 4,
 "nbformat_minor": 5
}
