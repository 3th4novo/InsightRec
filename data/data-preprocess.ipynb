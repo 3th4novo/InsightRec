{
 "cells": [
  {
   "cell_type": "code",
   "id": "initial_id",
   "metadata": {
    "collapsed": true,
    "ExecuteTime": {
     "end_time": "2025-07-04T02:33:56.959301Z",
     "start_time": "2025-07-04T02:33:56.551538Z"
    }
   },
   "source": [
    "import pandas as pd\n",
    "import numpy as np\n"
   ],
   "outputs": [],
   "execution_count": 1
  },
  {
   "metadata": {
    "ExecuteTime": {
     "end_time": "2025-07-04T02:34:15.845595Z",
     "start_time": "2025-07-04T02:34:15.791919Z"
    }
   },
   "cell_type": "code",
   "source": [
    "rnames = ['userId', 'movieId', 'rating', 'timestamp']\n",
    "ratings_df = pd.read_csv('../data/ml-latest-small/ratings.csv',\n",
    "                         header=None,\n",
    "                         names=rnames)"
   ],
   "id": "b316163d699e2fa2",
   "outputs": [],
   "execution_count": 3
  }
 ],
 "metadata": {
  "kernelspec": {
   "display_name": "Python 3",
   "language": "python",
   "name": "python3"
  },
  "language_info": {
   "codemirror_mode": {
    "name": "ipython",
    "version": 2
   },
   "file_extension": ".py",
   "mimetype": "text/x-python",
   "name": "python",
   "nbconvert_exporter": "python",
   "pygments_lexer": "ipython2",
   "version": "2.7.6"
  }
 },
 "nbformat": 4,
 "nbformat_minor": 5
}
